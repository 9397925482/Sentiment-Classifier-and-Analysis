{
 "cells": [
  {
   "cell_type": "code",
   "execution_count": 1,
   "metadata": {},
   "outputs": [],
   "source": [
    "punctuation_chars = [\"'\", '\"', \",\", \".\", \"!\", \":\", \";\", '#', '@']\n",
    "def strip_punctuation(word):\n",
    "    for i in punctuation_chars:\n",
    "        if i in word:\n",
    "            word = word.replace(i,\"\")\n",
    "    return word\n",
    "# lists of words to use\n",
    "positive_words = []\n",
    "with open(\"Files/positive.txt\") as pos_f:\n",
    "    for lin in pos_f:\n",
    "        if lin[0] != ';' and lin[0] != '\\n':\n",
    "            positive_words.append(lin.strip())\n",
    "def get_pos(words):\n",
    "    pw = 0\n",
    "    small = words.lower()\n",
    "    char_less = strip_punctuation(small)\n",
    "    lst = char_less.split()\n",
    "    for i in lst:\n",
    "        if i in positive_words:\n",
    "            pw += 1\n",
    "    return int(pw)\n",
    "negative_words = []\n",
    "with open(\"Files/negative.txt\") as pos_f:\n",
    "    for lin in pos_f:\n",
    "        if lin[0] != ';' and lin[0] != '\\n':\n",
    "            negative_words.append(lin.strip())\n",
    "def get_neg(words):\n",
    "    nw = 0\n",
    "    small = words.lower()\n",
    "    char_less = strip_punctuation(small)\n",
    "    lst = char_less.split()\n",
    "    for i in lst:\n",
    "        if i in negative_words:\n",
    "            nw += 1\n",
    "    return int(nw)\n",
    "with open(\"Files/tweeter.csv\") as word:\n",
    "    data = word.readlines()\n",
    "    re_tweet_count = [int(i.split(\",\")[-2]) for i in data[1:]]\n",
    "    reply_count = [int(i.split(\",\")[-1]) for i in data[1:]]\n",
    "    pos = [get_pos(i) for i in data[1:]]\n",
    "    neg = [get_neg(i) for i in data[1:]]\n",
    "    tot = [pos[i]-neg[i] for i in range(len(pos))]\n",
    "with open(\"Files/resulting_data.csv\",\"w\") as result:\n",
    "    result.write(\"Number of Retweets, Number of Replies, Positive Score, Negative Score, Net Score\\n\")\n",
    "    for i in range(len(pos)):\n",
    "        result.write(str(re_tweet_count[i])+\", \" +str(reply_count[i])+\", \"+str(pos[i])+\", \"+str(neg[i])+\", \"+str(tot[i])+\"\\n\")"
   ]
  },
  {
   "cell_type": "code",
   "execution_count": null,
   "metadata": {},
   "outputs": [],
   "source": []
  }
 ],
 "metadata": {
  "kernelspec": {
   "display_name": "Python 3",
   "language": "python",
   "name": "python3"
  },
  "language_info": {
   "codemirror_mode": {
    "name": "ipython",
    "version": 3
   },
   "file_extension": ".py",
   "mimetype": "text/x-python",
   "name": "python",
   "nbconvert_exporter": "python",
   "pygments_lexer": "ipython3",
   "version": "3.8.3"
  }
 },
 "nbformat": 4,
 "nbformat_minor": 4
}
